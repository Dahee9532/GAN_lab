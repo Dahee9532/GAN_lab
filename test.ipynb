{
 "cells": [
  {
   "cell_type": "code",
   "execution_count": 1,
   "metadata": {},
   "outputs": [
    {
     "name": "stderr",
     "output_type": "stream",
     "text": [
      "c:\\Users\\StradVision\\anaconda3\\envs\\py39\\lib\\site-packages\\torchvision\\io\\image.py:13: UserWarning: Failed to load image Python extension: Could not find module 'C:\\Users\\StradVision\\anaconda3\\envs\\py39\\Lib\\site-packages\\torchvision\\image.pyd' (or one of its dependencies). Try using the full path with constructor syntax.\n",
      "  warn(f\"Failed to load image Python extension: {e}\")\n"
     ]
    }
   ],
   "source": [
    "import torch\n",
    "import torch.nn as nn\n",
    "import torch.nn.functional as F\n",
    "\n",
    "from torchvision import datasets\n",
    "import torchvision.transforms as transforms\n",
    "from torch.utils.data import DataLoader\n",
    "from torchvision.transforms.functional import to_pil_image\n",
    "import matplotlib.pylab as plt\n",
    "%matplotlib inline\n",
    "\n",
    "import os\n",
    "import numpy as np\n",
    "import time\n",
    "\n",
    "device = torch.device('cuda' if torch.cuda.is_available() else 'cpu')"
   ]
  },
  {
   "cell_type": "code",
   "execution_count": 2,
   "metadata": {},
   "outputs": [],
   "source": [
    "path2data = './data'\n",
    "os.makedirs(path2data, exist_ok=True) # 폴더 생성\n",
    "                                      # exist_ok option! 폴더 없으면 생성"
   ]
  },
  {
   "cell_type": "code",
   "execution_count": 3,
   "metadata": {},
   "outputs": [],
   "source": [
    "# MNIST dataset 불러오기\n",
    "train_ds = datasets.MNIST(path2data, train=True, transform=transforms.Compose([transforms.ToTensor(),transforms.Normalize([0.5],[0.5])]), download=True)"
   ]
  },
  {
   "cell_type": "code",
   "execution_count": 4,
   "metadata": {},
   "outputs": [
    {
     "data": {
      "text/plain": [
       "<matplotlib.image.AxesImage at 0x1379a3a9670>"
      ]
     },
     "execution_count": 4,
     "metadata": {},
     "output_type": "execute_result"
    },
    {
     "data": {
      "image/png": "[encoded data removed]",
      "text/plain": [
       "<Figure size 432x288 with 1 Axes>"
      ]
     },
     "metadata": {
      "needs_background": "light"
     },
     "output_type": "display_data"
    }
   ],
   "source": [
    "img, label = train_ds[0]\n",
    "plt.imshow(to_pil_image(0.5*img+0.5), cmap='gray') \n",
    "#denormalize하는 부분, normalize -> (x-mean)/std\n",
    "#img type : torch.Tensor\n",
    "#to_pil_image : tensor를 이미지로 "
   ]
  },
  {
   "cell_type": "code",
   "execution_count": 5,
   "metadata": {},
   "outputs": [],
   "source": [
    "#데이터 로더 생성\n",
    "train_dl = DataLoader(train_ds, batch_size=32, shuffle=True)"
   ]
  },
  {
   "cell_type": "code",
   "execution_count": 6,
   "metadata": {},
   "outputs": [
    {
     "name": "stdout",
     "output_type": "stream",
     "text": [
      "torch.Size([32, 1, 28, 28]) torch.Size([32])\n"
     ]
    }
   ],
   "source": [
    "#check\n",
    "for x, y in train_dl:\n",
    "    print(x.shape, y.shape)\n",
    "    break\n",
    "\n",
    "#x.shape : torch.Size([32, 1, 28, 28]) = (batch_size, channel, width, height)\n",
    "#y.shape : torch.Size([32]) = label"
   ]
  },
  {
   "cell_type": "code",
   "execution_count": 7,
   "metadata": {},
   "outputs": [
    {
     "name": "stdout",
     "output_type": "stream",
     "text": [
      "torch.Size([16, 1, 28, 28])\n"
     ]
    }
   ],
   "source": [
    "#generator : noise를 입력받아 이미지를 생성\n",
    "class Generator(nn.Module):\n",
    "    def __init__(self, params):\n",
    "        super().__init__()\n",
    "        self.nz = params['nz'] #입력 노이즈 벡터 수, 100\n",
    "        self.img_size = params['img_size'] #이미지 크기, 1x28x28\n",
    "        \n",
    "        self.model = nn.Sequential(\n",
    "            *self._fc_layer(self.nz, 128, normalize=False),\n",
    "            *self._fc_layer(128, 256),\n",
    "            *self._fc_layer(256, 512),\n",
    "            *self._fc_layer(512, 1024),\n",
    "            nn.Linear(1024, int(np.prod(self.img_size))), #Linear(in_features=1024, out_features=784, bias=True)\n",
    "            nn.Tanh()\n",
    "        )\n",
    "    #np.prod() : axis를 기준으로 array 내부 elements들의 곱\n",
    "    #https://aigong.tistory.com/47\n",
    "        \n",
    "        \n",
    "    def forward(self, z):\n",
    "        img = self.model(z) #위에서 선언한 모델에 z <- 파라미터 입력 (torch.Size([16, 100]))\n",
    "        img = img.view(img.size(0), *self.img_size) #torch.Size([16, 1, 28, 28])\n",
    "        #img.size(0) = 16\n",
    "        #*self.img_size = 1 28 28\n",
    "        #즉, img.view(img.size(0), *self.img_size) = img.view(16, 1, 28, 28)\n",
    "        return img\n",
    "    \n",
    "    #__init__()에서 사용할 네트워크 모델들을 정의, \n",
    "    #forward() 함수에서는 그 모델들을 사용하여 순전파 로직 구현\n",
    "    \n",
    "    #fc layer\n",
    "    def _fc_layer(self, in_channels, out_channels, normalize=True): # <-- __init__ (모델 선언)에 사용\n",
    "        layers = []\n",
    "        layers.append(nn.Linear(in_channels, out_channels)) #fc layer\n",
    "        if normalize:\n",
    "            layers.append(nn.BatchNorm1d(out_channels, 0.8))\n",
    "        layers.append(nn.LeakyReLU(0.2))\n",
    "        return layers\n",
    "    \n",
    "    #layer 정의\n",
    "    # [Linear(in_features=100, out_features=128, bias=True), LeakyReLU(negative_slope=0.2)]\n",
    "    # [Linear(in_features=128, out_features=256, bias=True), BatchNorm1d(256, eps=0.8, momentum=0.1, affine=True, track_running_stats=True), LeakyReLU(negative_slope=0.2)]\n",
    "    # [Linear(in_features=256, out_features=512, bias=True), BatchNorm1d(512, eps=0.8, momentum=0.1, affine=True, track_running_stats=True), LeakyReLU(negative_slope=0.2)]\n",
    "    # [Linear(in_features=512, out_features=1024, bias=True), BatchNorm1d(1024, eps=0.8, momentum=0.1, affine=True, track_running_stats=True), LeakyReLU(negative_slope=0.2)]\n",
    "    \n",
    "    #normalize=False일때는 LeakyReUL만 통과\n",
    "    #default normalize는 True -> BatchNorm1d, LeakyReLU 모두 통과\n",
    "    \n",
    "#check\n",
    "params = {'nz':100, 'img_size':(1,28,28)} #노이즈 벡터 수, 이미지 크기 저장\n",
    "x = torch.randn(16, 100).to(device) #x.shape : torch.Size([16, 100])\n",
    "model_gen = Generator(params).to(device) #params 전달해주고 모델 선언\n",
    "output = model_gen(x) #모델에 input 넣어주기\n",
    "print(output.shape)\n"
   ]
  },
  {
   "cell_type": "code",
   "execution_count": 8,
   "metadata": {},
   "outputs": [
    {
     "name": "stdout",
     "output_type": "stream",
     "text": [
      "torch.Size([4, 4, 3])\n",
      "torch.Size([16, 3])\n"
     ]
    }
   ],
   "source": [
    "import numpy as np\n",
    "import torch\n",
    "\n",
    "t = np.zeros((4,4,3)) #0으로 채워진 4x4x3 numpy array 생성\n",
    "ft = torch.FloatTensor(t) #텐서로 변환\n",
    "print(ft.shape) #torch.Size([4,4,3]) = (batch, w, h)\n",
    "print(ft.view([-1, 3]).shape) #텐서를 (?, 3) 크기로 변경\n",
    "# 원소의 개수 (4x4x3 = 48) 유지한 채 3차원을 맞추니깐 결론적으로 16x3"
   ]
  },
  {
   "cell_type": "code",
   "execution_count": 16,
   "metadata": {},
   "outputs": [
    {
     "name": "stdout",
     "output_type": "stream",
     "text": [
      "torch.Size([16, 1])\n"
     ]
    }
   ],
   "source": [
    "#discriminator : 진짜 이미지와 가짜 이미지를 분류\n",
    "class Discriminator(nn.Module):\n",
    "    def __init__(self, params):\n",
    "        super().__init__()\n",
    "        self.img_size = params['img_size'] #1x28x28 (28x28 = 784)\n",
    "        \n",
    "        self.model = nn.Sequential(\n",
    "            nn.Linear(int(np.prod(self.img_size)), 512),\n",
    "            nn.LeakyReLU(0.2),\n",
    "            nn.Linear(512,256),\n",
    "            nn.LeakyReLU(0.2),\n",
    "            nn.Linear(256,1),\n",
    "            nn.Sigmoid()\n",
    "        )\n",
    "    def forward(self, x):\n",
    "        #x.shape : torch.Size([16, 1, 28, 28])\n",
    "        x = x.view(x.size(0), -1)\n",
    "        #x.shape : torch.Size([16, 784])\n",
    "        x = self.model(x)\n",
    "        #x.shape : torch.Size([16, 1])\n",
    "        return x\n",
    "        #batch size 개수에 맞게 결과 반환. 그래서 위에서 view(x.size(0), -1) 한거임!\n",
    "\n",
    "#check\n",
    "#params = {'nz':100, 'img_size':(1,28,28)} #노이즈 벡터 수, 이미지 크기 저장\n",
    "x = torch.randn(16,1,28,28).to(device)\n",
    "model_dis = Discriminator(params).to(device)\n",
    "output = model_dis(x)\n",
    "print(output.shape) #torch.Size([16, 1]) : 하나의 값으로 나오는데, 16장 넣어줬으니깐 (16, 1)\n",
    "        "
   ]
  },
  {
   "cell_type": "code",
   "execution_count": 28,
   "metadata": {},
   "outputs": [
    {
     "data": {
      "text/plain": [
       "Discriminator(\n",
       "  (model): Sequential(\n",
       "    (0): Linear(in_features=784, out_features=512, bias=True)\n",
       "    (1): LeakyReLU(negative_slope=0.2)\n",
       "    (2): Linear(in_features=512, out_features=256, bias=True)\n",
       "    (3): LeakyReLU(negative_slope=0.2)\n",
       "    (4): Linear(in_features=256, out_features=1, bias=True)\n",
       "    (5): Sigmoid()\n",
       "  )\n",
       ")"
      ]
     },
     "execution_count": 28,
     "metadata": {},
     "output_type": "execute_result"
    }
   ],
   "source": [
    "#가중치 초기화\n",
    "def initialize_weights(model):\n",
    "    #클래스 이름 가져오기 \n",
    "    classname = model.__class__.__name__ \n",
    "    #fc layer\n",
    "    if classname.find('Linear') != -1: #linear layer에서\n",
    "        nn.init.normal_(model.weight.data, 0.0, 0.02)\n",
    "        nn.init.constant_(model.bias.data, 0)\n",
    "    #batchnorm\n",
    "    elif classname.find('BatchNorm') != -1: #batchnorm layer에서 \n",
    "        nn.init.normal_(model.weight.data, 1.0, 0.02)\n",
    "        nn.init.constant_(model.bias.data, 0)\n",
    "\n",
    "#가중치 초기화 적용\n",
    "model_gen.apply(initialize_weights);\n",
    "\n",
    "# Generator(\n",
    "#   (model): Sequential(\n",
    "#     (0): Linear(in_features=100, out_features=128, bias=True)\n",
    "#     (1): LeakyReLU(negative_slope=0.2)\n",
    "#     (2): Linear(in_features=128, out_features=256, bias=True)\n",
    "#     (3): BatchNorm1d(256, eps=0.8, momentum=0.1, affine=True, track_running_stats=True)\n",
    "#     (4): LeakyReLU(negative_slope=0.2)\n",
    "#     (5): Linear(in_features=256, out_features=512, bias=True)\n",
    "#     (6): BatchNorm1d(512, eps=0.8, momentum=0.1, affine=True, track_running_stats=True)\n",
    "#     (7): LeakyReLU(negative_slope=0.2)\n",
    "#     (8): Linear(in_features=512, out_features=1024, bias=True)\n",
    "#     (9): BatchNorm1d(1024, eps=0.8, momentum=0.1, affine=True, track_running_stats=True)\n",
    "#     (10): LeakyReLU(negative_slope=0.2)\n",
    "#     (11): Linear(in_features=1024, out_features=784, bias=True)\n",
    "#     (12): Tanh()\n",
    "#   )\n",
    "# )\n",
    "\n",
    "\n",
    "model_dis.apply(initialize_weights)\n",
    "\n",
    "# Discriminator(\n",
    "#   (model): Sequential(\n",
    "#     (0): Linear(in_features=784, out_features=512, bias=True)\n",
    "#     (1): LeakyReLU(negative_slope=0.2)\n",
    "#     (2): Linear(in_features=512, out_features=256, bias=True)\n",
    "#     (3): LeakyReLU(negative_slope=0.2)\n",
    "#     (4): Linear(in_features=256, out_features=1, bias=True)\n",
    "#     (5): Sigmoid()\n",
    "#   )\n",
    "# )\n",
    "    \n",
    "    "
   ]
  },
  {
   "cell_type": "code",
   "execution_count": 29,
   "metadata": {},
   "outputs": [
    {
     "name": "stdout",
     "output_type": "stream",
     "text": [
      "<class '__main__.num'>\n",
      "num\n"
     ]
    }
   ],
   "source": [
    "class num:\n",
    "    def __init__(self, num):\n",
    "        self.num = num\n",
    "x = num(1)\n",
    "print (x.__class__)\n",
    "print (x.__class__.__name__)"
   ]
  },
  {
   "cell_type": "code",
   "execution_count": 30,
   "metadata": {},
   "outputs": [],
   "source": [
    "#loss 함수\n",
    "loss_func = nn.BCELoss() \n",
    "#bce loss는 마지막 레이어 노드 수가 \"1\"일때, \n",
    "#그리고 그 값이 0 ~ 1 일때\n",
    "#그래서 마지막에 시그모이드 함수 적용시켜줘야함"
   ]
  },
  {
   "cell_type": "code",
   "execution_count": 32,
   "metadata": {},
   "outputs": [],
   "source": [
    "from torch import optim\n",
    "\n",
    "#최적화 파라미터\n",
    "lr = 2e-4\n",
    "beta1 = 0.5\n",
    "\n",
    "opt_dis = optim.Adam(model_dis.parameters(),lr=lr,betas=(beta1, 0.999))\n",
    "opt_gen = optim.Adam(model_gen.parameters(),lr=lr,betas=(beta1,0.999))"
   ]
  },
  {
   "cell_type": "code",
   "execution_count": 33,
   "metadata": {},
   "outputs": [],
   "source": [
    "real_label = 1.\n",
    "fake_label = 0.\n",
    "nz = params['nz']\n",
    "num_epochs = 2\n",
    "\n",
    "loss_history={'gen':[], 'dis':[]}"
   ]
  },
  {
   "cell_type": "code",
   "execution_count": 42,
   "metadata": {},
   "outputs": [
    {
     "name": "stdout",
     "output_type": "stream",
     "text": [
      "Epoch: 0, G_Loss: 3.882687, D_Loss: 0.709129, time: 0.18 min\n",
      "Epoch: 1, G_Loss: 1.654941, D_Loss: 0.481597, time: 0.36 min\n",
      "Epoch: 1, G_Loss: 1.884708, D_Loss: 0.146628, time: 0.55 min\n"
     ]
    }
   ],
   "source": [
    "batch_count = 0\n",
    "start_time = time.time()\n",
    "model_dis.train()\n",
    "model_gen.train()\n",
    "\n",
    "for epoch in range(num_epochs):\n",
    "    for xb, yb in train_dl:\n",
    "        batch_size = xb.size(0) \n",
    "\n",
    "        xb = xb.to(device)\n",
    "        yb_real = torch.Tensor(batch_size,1).fill_(1.0).to(device) #shape : torch.Size([32, 1])\n",
    "        yb_fake = torch.Tensor(batch_size,1).fill_(0.0).to(device)\n",
    "        \n",
    "        \n",
    "        #Generator\n",
    "        model_gen.zero_grad()\n",
    "        noise = torch.randn(batch_size, nz, device=device)\n",
    "        out_gen = model_gen(noise)\n",
    "        out_dis = model_dis(out_gen)\n",
    "        \n",
    "        loss_gen = loss_func(out_dis, yb_real)\n",
    "        loss_gen.backward()\n",
    "        opt_gen.step()\n",
    "        \n",
    "        #Discriminator\n",
    "        model_dis.zero_grad()\n",
    "        \n",
    "        out_real = model_dis(xb)\n",
    "        out_fake = model_dis(out_gen.detach()) #????\n",
    "        loss_real = loss_func(out_real, yb_real)\n",
    "        loss_fake = loss_func(out_fake, yb_fake)\n",
    "        loss_dis = (loss_real + loss_fake) / 2\n",
    "        \n",
    "        loss_dis.backward()\n",
    "        opt_dis.step()\n",
    "        \n",
    "        loss_history['gen'].append(loss_gen.item())\n",
    "        loss_history['dis'].append(loss_dis.item())\n",
    "        \n",
    "        batch_count += 1\n",
    "        if batch_count % 1000 == 0:\n",
    "            print('Epoch: %.0f, G_Loss: %.6f, D_Loss: %.6f, time: %.2f min' %(epoch, loss_gen.item(), loss_dis.item(), (time.time()-start_time)/60))\n",
    "        \n",
    "        "
   ]
  },
  {
   "cell_type": "code",
   "execution_count": 43,
   "metadata": {},
   "outputs": [
    {
     "data": {
      "image/png": "[encoded data removed]",
      "text/plain": [
       "<Figure size 720x360 with 1 Axes>"
      ]
     },
     "metadata": {
      "needs_background": "light"
     },
     "output_type": "display_data"
    }
   ],
   "source": [
    "#plot loss history\n",
    "plt.figure(figsize=(10,5))\n",
    "plt.title('Loss Progress')\n",
    "plt.plot(loss_history['gen'], label='Gen. Loss')\n",
    "plt.plot(loss_history['dis'], label='Dis. Loss')\n",
    "plt.xlabel('batch count')\n",
    "plt.ylabel('Loss')\n",
    "plt.legend()\n",
    "plt.show()"
   ]
  },
  {
   "cell_type": "code",
   "execution_count": 44,
   "metadata": {},
   "outputs": [],
   "source": [
    "#가중치 저장\n",
    "path2models = './models'\n",
    "os.makedirs(path2models, exist_ok=True)\n",
    "path2weights_gen = os.path.join(path2models, 'weights_gen.pt')\n",
    "path2weights_dis = os.path.join(path2models, 'weights_dis.pt')\n",
    "\n",
    "torch.save(model_gen.state_dict(), path2weights_gen)\n",
    "torch.save(model_dis.state_dict(), path2weights_dis)  "
   ]
  },
  {
   "cell_type": "code",
   "execution_count": 46,
   "metadata": {},
   "outputs": [
    {
     "name": "stdout",
     "output_type": "stream",
     "text": [
      "torch.Size([16, 1, 28, 28])\n"
     ]
    }
   ],
   "source": [
    "#가중치 불러오기\n",
    "weights = torch.load(path2weights_gen)\n",
    "model_gen.load_state_dict(weights)\n",
    "\n",
    "#evaluation mode\n",
    "model_gen.eval()\n",
    "\n",
    "#가짜 이미지 생성\n",
    "with torch.no_grad():\n",
    "    fixed_noise = torch.randn(16, 100, device=device)\n",
    "    img_fake = model_gen(fixed_noise).detach().cpu()\n",
    "print(img_fake.shape)"
   ]
  },
  {
   "cell_type": "code",
   "execution_count": 55,
   "metadata": {},
   "outputs": [
    {
     "data": {
      "image/png": "[encoded data removed]",
      "text/plain": [
       "<Figure size 720x720 with 16 Axes>"
      ]
     },
     "metadata": {
      "needs_background": "light"
     },
     "output_type": "display_data"
    }
   ],
   "source": [
    "#가짜 이미지 시각화\n",
    "plt.figure(figsize=(10,10))\n",
    "for ii in range(16):\n",
    "    plt.subplot(4,4,ii+1)\n",
    "    plt.imshow(to_pil_image(0.5*img_fake[ii]+0.5),cmap='gray')\n",
    "    plt.axis('off') #좌표표시 off"
   ]
  },
  {
   "cell_type": "code",
   "execution_count": null,
   "metadata": {},
   "outputs": [],
   "source": []
  }
 ],
 "metadata": {
  "kernelspec": {
   "display_name": "Python 3.9.12 ('py39')",
   "language": "python",
   "name": "python3"
  },
  "language_info": {
   "codemirror_mode": {
    "name": "ipython",
    "version": 3
   },
   "file_extension": ".py",
   "mimetype": "text/x-python",
   "name": "python",
   "nbconvert_exporter": "python",
   "pygments_lexer": "ipython3",
   "version": "3.9.12"
  },
  "orig_nbformat": 4,
  "vscode": {
   "interpreter": {
    "hash": "a0fccc7b5b66a21ab70010184af2a4adf761d48ac2073a3361184247c3ca5515"
   }
  }
 },
 "nbformat": 4,
 "nbformat_minor": 2
}
