{
 "cells": [
  {
   "cell_type": "code",
   "execution_count": 2,
   "metadata": {},
   "outputs": [],
   "source": [
    "import torch\n",
    "import torch.nn as nn\n",
    "import torch.nn.functional as F\n",
    "\n",
    "from torchvision import datasets\n",
    "import torchvision.transforms as transforms\n",
    "from torch.utils.data import DataLoader\n",
    "from torchvision.transforms.functional import to_pil_image\n",
    "import matplotlib.pylab as plt\n",
    "%matplotlib inline\n",
    "\n",
    "import os\n",
    "import numpy as np\n",
    "import time\n",
    "\n",
    "device = torch.device('cuda' if torch.cuda.is_available() else 'cpu')\n"
   ]
  },
  {
   "cell_type": "code",
   "execution_count": 3,
   "metadata": {},
   "outputs": [],
   "source": [
    "# 데이터 경로 지정\n",
    "path2data = './data'\n",
    "os.makedirs(path2data, exist_ok=True) # 폴더 생성"
   ]
  },
  {
   "cell_type": "code",
   "execution_count": 4,
   "metadata": {},
   "outputs": [],
   "source": [
    "# MNIST dataset 불러오기\n",
    "train_ds = datasets.MNIST(path2data, train=True, transform=transforms.Compose([transforms.ToTensor(),transforms.Normalize([0.5],[0.5])]), download=True)"
   ]
  },
  {
   "cell_type": "code",
   "execution_count": 5,
   "metadata": {},
   "outputs": [
    {
     "data": {
      "text/plain": [
       "<matplotlib.image.AxesImage at 0x1beb371b4f0>"
      ]
     },
     "execution_count": 5,
     "metadata": {},
     "output_type": "execute_result"
    },
    {
     "data": {
      "image/png": "[encoded data removed]",
      "text/plain": [
       "<Figure size 432x288 with 1 Axes>"
      ]
     },
     "metadata": {
      "needs_background": "light"
     },
     "output_type": "display_data"
    }
   ],
   "source": [
    "# 샘플 이미지 확인\n",
    "img, label = train_ds[0]\n",
    "plt.imshow(to_pil_image(0.5*img+0.5),cmap='gray')"
   ]
  },
  {
   "cell_type": "code",
   "execution_count": 6,
   "metadata": {},
   "outputs": [],
   "source": [
    "# 데이터 로더 생성\n",
    "train_dl = DataLoader(train_ds, batch_size=32, shuffle=True)"
   ]
  },
  {
   "cell_type": "code",
   "execution_count": 7,
   "metadata": {},
   "outputs": [
    {
     "name": "stdout",
     "output_type": "stream",
     "text": [
      "torch.Size([32, 1, 28, 28]) torch.Size([32])\n"
     ]
    }
   ],
   "source": [
    "# check\n",
    "for x, y in train_dl:\n",
    "    print(x.shape, y.shape)\n",
    "    break"
   ]
  },
  {
   "cell_type": "code",
   "execution_count": 8,
   "metadata": {},
   "outputs": [
    {
     "name": "stdout",
     "output_type": "stream",
     "text": [
      "torch.Size([16, 1, 28, 28])\n"
     ]
    }
   ],
   "source": [
    "# generator: noise를 입력받아 이미지를 생성합니다.\n",
    "class Generator(nn.Module):\n",
    "    def __init__(self, params):\n",
    "        super().__init__()\n",
    "        self.nz = params['nz'] # 입력 노이즈 벡터 수, 100\n",
    "        self.img_size = params['img_size'] # 이미지 크기, 1x28x28\n",
    "\n",
    "        self.model = nn.Sequential(\n",
    "            *self._fc_layer(self.nz, 128, normalize=False),\n",
    "            *self._fc_layer(128,256),\n",
    "            *self._fc_layer(256,512),\n",
    "            *self._fc_layer(512,1024),\n",
    "            nn.Linear(1024,int(np.prod(self.img_size))),\n",
    "            nn.Tanh()\n",
    "        )\n",
    "\n",
    "    def forward(self, z):\n",
    "        img = self.model(z)\n",
    "        img = img.view(img.size(0), *self.img_size)\n",
    "        return img\n",
    "\n",
    "    # fc layer\n",
    "    def _fc_layer(self, in_channels, out_channels, normalize=True):\n",
    "        layers = []\n",
    "        layers.append(nn.Linear(in_channels, out_channels)) # fc layer\n",
    "        if normalize:\n",
    "            layers.append(nn.BatchNorm1d(out_channels, 0.8)) # BN\n",
    "        layers.append(nn.LeakyReLU(0.2)) # LeakyReLU\n",
    "        return layers\n",
    "\n",
    "# check\n",
    "params = {'nz':100,\n",
    "          'img_size':(1,28,28)}\n",
    "x = torch.randn(16,100).to(device) # random noise\n",
    "model_gen = Generator(params).to(device)\n",
    "output = model_gen(x) # noise를 입력받아 이미지 생성\n",
    "print(output.shape)"
   ]
  },
  {
   "cell_type": "code",
   "execution_count": 9,
   "metadata": {},
   "outputs": [
    {
     "name": "stdout",
     "output_type": "stream",
     "text": [
      "torch.Size([16, 1])\n"
     ]
    }
   ],
   "source": [
    "# discriminator: 진짜 이미지와 가짜 이미지를 분류합니다.\n",
    "class Discriminator(nn.Module):\n",
    "    def __init__(self,params):\n",
    "        super().__init__()\n",
    "        self.img_size = params['img_size'] # 이미지 크기, 1x28x28\n",
    "\n",
    "        self.model = nn.Sequential(\n",
    "            nn.Linear(int(np.prod(self.img_size)), 512),\n",
    "            nn.LeakyReLU(0.2),\n",
    "            nn.Linear(512,256),\n",
    "            nn.LeakyReLU(0.2),\n",
    "            nn.Linear(256,1),\n",
    "            nn.Sigmoid()\n",
    "        )\n",
    "\n",
    "    def forward(self, x):\n",
    "        x = x.view(x.size(0),-1)\n",
    "        x = self.model(x)\n",
    "        return x\n",
    "\n",
    "# check\n",
    "x = torch.randn(16,1,28,28).to(device)\n",
    "model_dis = Discriminator(params).to(device)\n",
    "output = model_dis(x)\n",
    "print(output.shape)"
   ]
  },
  {
   "cell_type": "code",
   "execution_count": 10,
   "metadata": {},
   "outputs": [],
   "source": [
    "# 가중치 초기화\n",
    "def initialize_weights(model):\n",
    "    classname = model.__class__.__name__\n",
    "    # fc layer\n",
    "    if classname.find('Linear') != -1:\n",
    "        nn.init.normal_(model.weight.data, 0.0, 0.02)\n",
    "        nn.init.constant_(model.bias.data, 0)\n",
    "    # batchnorm\n",
    "    elif classname.find('BatchNorm') != -1:\n",
    "        nn.init.normal_(model.weight.data, 1.0, 0.02)\n",
    "        nn.init.constant_(model.bias.data, 0)\n",
    "\n",
    "# 가중치 초기화 적용\n",
    "model_gen.apply(initialize_weights);\n",
    "model_dis.apply(initialize_weights);"
   ]
  },
  {
   "cell_type": "code",
   "execution_count": 11,
   "metadata": {},
   "outputs": [],
   "source": [
    "# 손실 함수\n",
    "loss_func = nn.BCELoss()"
   ]
  },
  {
   "cell_type": "code",
   "execution_count": 12,
   "metadata": {},
   "outputs": [],
   "source": [
    "from torch import optim\n",
    "\n",
    "# 최적화 파라미터\n",
    "lr = 2e-4\n",
    "beta1 = 0.5\n",
    "\n",
    "opt_dis = optim.Adam(model_dis.parameters(),lr=lr,betas=(beta1,0.999))\n",
    "opt_gen = optim.Adam(model_gen.parameters(),lr=lr,betas=(beta1,0.999))"
   ]
  },
  {
   "cell_type": "code",
   "execution_count": 15,
   "metadata": {},
   "outputs": [],
   "source": [
    "real_label = 1.\n",
    "fake_label = 0.\n",
    "nz = params['nz']\n",
    "num_epochs = 50\n",
    "\n",
    "loss_history={'gen':[],\n",
    "              'dis':[]}"
   ]
  },
  {
   "cell_type": "code",
   "execution_count": 16,
   "metadata": {},
   "outputs": [
    {
     "name": "stdout",
     "output_type": "stream",
     "text": [
      "Epoch: 0, G_Loss: 1.720131, D_Loss: 0.272532, time: 0.19 min\n",
      "Epoch: 1, G_Loss: 0.829072, D_Loss: 0.486371, time: 0.38 min\n",
      "Epoch: 1, G_Loss: 1.254430, D_Loss: 0.237393, time: 0.55 min\n",
      "Epoch: 2, G_Loss: 1.480262, D_Loss: 0.295838, time: 0.74 min\n",
      "Epoch: 2, G_Loss: 2.446125, D_Loss: 0.261667, time: 0.92 min\n",
      "Epoch: 3, G_Loss: 0.902147, D_Loss: 0.333956, time: 1.09 min\n",
      "Epoch: 3, G_Loss: 2.627995, D_Loss: 0.205714, time: 1.27 min\n",
      "Epoch: 4, G_Loss: 1.761673, D_Loss: 0.249435, time: 1.45 min\n",
      "Epoch: 4, G_Loss: 2.375700, D_Loss: 0.196605, time: 1.63 min\n",
      "Epoch: 5, G_Loss: 2.991236, D_Loss: 0.296986, time: 1.81 min\n",
      "Epoch: 5, G_Loss: 1.718126, D_Loss: 0.266569, time: 2.00 min\n",
      "Epoch: 6, G_Loss: 1.679418, D_Loss: 0.223077, time: 2.21 min\n",
      "Epoch: 6, G_Loss: 1.998993, D_Loss: 0.180952, time: 2.39 min\n",
      "Epoch: 7, G_Loss: 1.458781, D_Loss: 0.320065, time: 2.59 min\n",
      "Epoch: 7, G_Loss: 2.144402, D_Loss: 0.176728, time: 2.76 min\n",
      "Epoch: 8, G_Loss: 3.566558, D_Loss: 0.465988, time: 2.93 min\n",
      "Epoch: 9, G_Loss: 1.344166, D_Loss: 0.299602, time: 3.11 min\n",
      "Epoch: 9, G_Loss: 1.477869, D_Loss: 0.274542, time: 3.29 min\n",
      "Epoch: 10, G_Loss: 2.095113, D_Loss: 0.248739, time: 3.46 min\n",
      "Epoch: 10, G_Loss: 1.149252, D_Loss: 0.353696, time: 3.64 min\n",
      "Epoch: 11, G_Loss: 1.930399, D_Loss: 0.245100, time: 3.82 min\n",
      "Epoch: 11, G_Loss: 2.660600, D_Loss: 0.234562, time: 4.01 min\n",
      "Epoch: 12, G_Loss: 2.407637, D_Loss: 0.146655, time: 4.18 min\n",
      "Epoch: 12, G_Loss: 2.163702, D_Loss: 0.184672, time: 4.36 min\n",
      "Epoch: 13, G_Loss: 2.419981, D_Loss: 0.383053, time: 4.54 min\n",
      "Epoch: 13, G_Loss: 3.187773, D_Loss: 0.242174, time: 4.72 min\n",
      "Epoch: 14, G_Loss: 1.591796, D_Loss: 0.308907, time: 4.90 min\n",
      "Epoch: 14, G_Loss: 2.389542, D_Loss: 0.188751, time: 5.07 min\n",
      "Epoch: 15, G_Loss: 3.480815, D_Loss: 0.270369, time: 5.25 min\n",
      "Epoch: 15, G_Loss: 1.911088, D_Loss: 0.301892, time: 5.43 min\n",
      "Epoch: 16, G_Loss: 3.933399, D_Loss: 0.190101, time: 5.61 min\n",
      "Epoch: 17, G_Loss: 3.380089, D_Loss: 0.208100, time: 5.79 min\n",
      "Epoch: 17, G_Loss: 2.583632, D_Loss: 0.185065, time: 5.97 min\n",
      "Epoch: 18, G_Loss: 2.367919, D_Loss: 0.273584, time: 6.15 min\n",
      "Epoch: 18, G_Loss: 1.262454, D_Loss: 0.423580, time: 6.33 min\n",
      "Epoch: 19, G_Loss: 3.063376, D_Loss: 0.242001, time: 6.51 min\n",
      "Epoch: 19, G_Loss: 1.247164, D_Loss: 0.287164, time: 6.68 min\n",
      "Epoch: 20, G_Loss: 2.437476, D_Loss: 0.328594, time: 6.86 min\n",
      "Epoch: 20, G_Loss: 3.268042, D_Loss: 0.412850, time: 7.05 min\n",
      "Epoch: 21, G_Loss: 4.085518, D_Loss: 0.277009, time: 7.23 min\n",
      "Epoch: 21, G_Loss: 1.983701, D_Loss: 0.266506, time: 7.41 min\n",
      "Epoch: 22, G_Loss: 2.872544, D_Loss: 0.205597, time: 7.59 min\n",
      "Epoch: 22, G_Loss: 1.924643, D_Loss: 0.256213, time: 7.77 min\n",
      "Epoch: 23, G_Loss: 3.149728, D_Loss: 0.296653, time: 7.95 min\n",
      "Epoch: 23, G_Loss: 1.696784, D_Loss: 0.419782, time: 8.13 min\n",
      "Epoch: 24, G_Loss: 2.805375, D_Loss: 0.439630, time: 8.30 min\n",
      "Epoch: 25, G_Loss: 1.523163, D_Loss: 0.303830, time: 8.48 min\n",
      "Epoch: 25, G_Loss: 0.971751, D_Loss: 0.407769, time: 8.66 min\n",
      "Epoch: 26, G_Loss: 2.077865, D_Loss: 0.319147, time: 8.84 min\n",
      "Epoch: 26, G_Loss: 1.369614, D_Loss: 0.301811, time: 9.01 min\n",
      "Epoch: 27, G_Loss: 1.662398, D_Loss: 0.229283, time: 9.19 min\n",
      "Epoch: 27, G_Loss: 2.575629, D_Loss: 0.324454, time: 9.37 min\n",
      "Epoch: 28, G_Loss: 2.365262, D_Loss: 0.286957, time: 9.55 min\n",
      "Epoch: 28, G_Loss: 2.071320, D_Loss: 0.242923, time: 9.73 min\n",
      "Epoch: 29, G_Loss: 2.956481, D_Loss: 0.210057, time: 9.91 min\n",
      "Epoch: 29, G_Loss: 3.099344, D_Loss: 0.218897, time: 10.09 min\n",
      "Epoch: 30, G_Loss: 3.101828, D_Loss: 0.392337, time: 10.27 min\n",
      "Epoch: 30, G_Loss: 2.028492, D_Loss: 0.230200, time: 10.45 min\n",
      "Epoch: 31, G_Loss: 1.870773, D_Loss: 0.234859, time: 10.63 min\n",
      "Epoch: 31, G_Loss: 2.252455, D_Loss: 0.232181, time: 10.81 min\n",
      "Epoch: 32, G_Loss: 2.555011, D_Loss: 0.240360, time: 10.98 min\n",
      "Epoch: 33, G_Loss: 1.652601, D_Loss: 0.248238, time: 11.17 min\n",
      "Epoch: 33, G_Loss: 1.694000, D_Loss: 0.364740, time: 11.35 min\n",
      "Epoch: 34, G_Loss: 2.918017, D_Loss: 0.268001, time: 11.54 min\n",
      "Epoch: 34, G_Loss: 2.293061, D_Loss: 0.451517, time: 11.72 min\n",
      "Epoch: 35, G_Loss: 2.741738, D_Loss: 0.278482, time: 11.90 min\n",
      "Epoch: 35, G_Loss: 1.740672, D_Loss: 0.356381, time: 12.08 min\n",
      "Epoch: 36, G_Loss: 1.978894, D_Loss: 0.166772, time: 12.26 min\n",
      "Epoch: 36, G_Loss: 2.392833, D_Loss: 0.177396, time: 12.44 min\n",
      "Epoch: 37, G_Loss: 1.991013, D_Loss: 0.235216, time: 12.62 min\n",
      "Epoch: 37, G_Loss: 3.719742, D_Loss: 0.459213, time: 12.80 min\n",
      "Epoch: 38, G_Loss: 2.965117, D_Loss: 0.270644, time: 12.99 min\n",
      "Epoch: 38, G_Loss: 2.718927, D_Loss: 0.155980, time: 13.17 min\n",
      "Epoch: 39, G_Loss: 2.520165, D_Loss: 0.210174, time: 13.35 min\n",
      "Epoch: 39, G_Loss: 2.135491, D_Loss: 0.242508, time: 13.53 min\n",
      "Epoch: 40, G_Loss: 2.892068, D_Loss: 0.269628, time: 13.71 min\n",
      "Epoch: 41, G_Loss: 2.388503, D_Loss: 0.301603, time: 13.89 min\n",
      "Epoch: 41, G_Loss: 3.123962, D_Loss: 0.324107, time: 14.07 min\n",
      "Epoch: 42, G_Loss: 1.576945, D_Loss: 0.332644, time: 14.26 min\n",
      "Epoch: 42, G_Loss: 1.871491, D_Loss: 0.336337, time: 14.43 min\n",
      "Epoch: 43, G_Loss: 1.858760, D_Loss: 0.258920, time: 14.62 min\n",
      "Epoch: 43, G_Loss: 2.743634, D_Loss: 0.230366, time: 14.80 min\n",
      "Epoch: 44, G_Loss: 1.935708, D_Loss: 0.159907, time: 14.98 min\n",
      "Epoch: 44, G_Loss: 2.165894, D_Loss: 0.244489, time: 15.16 min\n",
      "Epoch: 45, G_Loss: 2.699213, D_Loss: 0.199406, time: 15.34 min\n",
      "Epoch: 45, G_Loss: 2.873622, D_Loss: 0.176178, time: 15.52 min\n",
      "Epoch: 46, G_Loss: 3.891435, D_Loss: 0.403078, time: 15.70 min\n",
      "Epoch: 46, G_Loss: 2.347532, D_Loss: 0.215000, time: 15.88 min\n",
      "Epoch: 47, G_Loss: 2.635368, D_Loss: 0.217730, time: 16.06 min\n",
      "Epoch: 47, G_Loss: 2.304097, D_Loss: 0.222486, time: 16.25 min\n",
      "Epoch: 48, G_Loss: 2.512538, D_Loss: 0.401762, time: 16.43 min\n",
      "Epoch: 49, G_Loss: 2.633280, D_Loss: 0.240598, time: 16.61 min\n",
      "Epoch: 49, G_Loss: 2.529669, D_Loss: 0.197896, time: 16.79 min\n"
     ]
    }
   ],
   "source": [
    "\n",
    "batch_count = 0\n",
    "start_time = time.time()\n",
    "model_dis.train()\n",
    "model_gen.train()\n",
    "\n",
    "for epoch in range(num_epochs):\n",
    "    for xb, yb in train_dl:\n",
    "        ba_si = xb.size(0)\n",
    "\n",
    "        xb = xb.to(device)\n",
    "        yb_real = torch.Tensor(ba_si,1).fill_(1.0).to(device)\n",
    "        yb_fake = torch.Tensor(ba_si,1).fill_(0.0).to(device)\n",
    "\n",
    "        # Generator\n",
    "        model_gen.zero_grad()\n",
    "        noise = torch.randn(ba_si,nz, device=device) # 노이즈 생성\n",
    "        out_gen = model_gen(noise) # 가짜 이미지 생성\n",
    "        out_dis = model_dis(out_gen) # 가짜 이미지 판별\n",
    "\n",
    "        loss_gen = loss_func(out_dis, yb_real)\n",
    "        loss_gen.backward()\n",
    "        opt_gen.step()\n",
    "\n",
    "        # Discriminator\n",
    "        model_dis.zero_grad()\n",
    "\n",
    "        out_real = model_dis(xb) # 진짜 이미지 판별\n",
    "        out_fake = model_dis(out_gen.detach()) # 가짜 이미지 판별\n",
    "        loss_real = loss_func(out_real, yb_real)\n",
    "        loss_fake = loss_func(out_fake, yb_fake)\n",
    "        loss_dis = (loss_real + loss_fake) / 2\n",
    "\n",
    "        loss_dis.backward()\n",
    "        opt_dis.step()\n",
    "\n",
    "        loss_history['gen'].append(loss_gen.item())\n",
    "        loss_history['dis'].append(loss_dis.item())\n",
    "\n",
    "        batch_count += 1\n",
    "        if batch_count % 1000 == 0:\n",
    "            print('Epoch: %.0f, G_Loss: %.6f, D_Loss: %.6f, time: %.2f min' %(epoch, loss_gen.item(), loss_dis.item(), (time.time()-start_time)/60))"
   ]
  },
  {
   "cell_type": "markdown",
   "metadata": {},
   "source": []
  },
  {
   "cell_type": "code",
   "execution_count": 17,
   "metadata": {},
   "outputs": [
    {
     "data": {
      "image/png": "[encoded data removed]",
      "text/plain": [
       "<Figure size 720x360 with 1 Axes>"
      ]
     },
     "metadata": {
      "needs_background": "light"
     },
     "output_type": "display_data"
    }
   ],
   "source": [
    "# plot loss history\n",
    "plt.figure(figsize=(10,5))\n",
    "plt.title('Loss Progress')\n",
    "plt.plot(loss_history['gen'], label='Gen. Loss')\n",
    "plt.plot(loss_history['dis'], label='Dis. Loss')\n",
    "plt.xlabel('batch count')\n",
    "plt.ylabel('Loss')\n",
    "plt.legend()\n",
    "plt.show()"
   ]
  },
  {
   "cell_type": "code",
   "execution_count": 18,
   "metadata": {},
   "outputs": [],
   "source": [
    "# 가중치 저장\n",
    "path2models = './models/'\n",
    "os.makedirs(path2models, exist_ok=True)\n",
    "path2weights_gen = os.path.join(path2models, 'weights_gen.pt')\n",
    "path2weights_dis = os.path.join(path2models, 'weights_dis.pt')\n",
    "\n",
    "torch.save(model_gen.state_dict(), path2weights_gen)\n",
    "torch.save(model_dis.state_dict(), path2weights_dis)"
   ]
  },
  {
   "cell_type": "code",
   "execution_count": 19,
   "metadata": {},
   "outputs": [
    {
     "name": "stdout",
     "output_type": "stream",
     "text": [
      "torch.Size([16, 1, 28, 28])\n"
     ]
    }
   ],
   "source": [
    "# 가중치 불러오기\n",
    "weights = torch.load(path2weights_gen)\n",
    "model_gen.load_state_dict(weights)\n",
    "\n",
    "# evaluation mode\n",
    "model_gen.eval()\n",
    "\n",
    "# 가짜 이미지 생성\n",
    "with torch.no_grad():\n",
    "    fixed_noise = torch.randn(16, 100, device=device)\n",
    "    img_fake = model_gen(fixed_noise).detach().cpu()\n",
    "print(img_fake.shape)"
   ]
  },
  {
   "cell_type": "code",
   "execution_count": 20,
   "metadata": {},
   "outputs": [
    {
     "data": {
      "image/png": "[encoded data removed]",
      "text/plain": [
       "<Figure size 720x720 with 16 Axes>"
      ]
     },
     "metadata": {
      "needs_background": "light"
     },
     "output_type": "display_data"
    }
   ],
   "source": [
    "# 가짜 이미지 시각화\n",
    "plt.figure(figsize=(10,10))\n",
    "for ii in range(16):\n",
    "    plt.subplot(4,4,ii+1)\n",
    "    plt.imshow(to_pil_image(0.5*img_fake[ii]+0.5),cmap='gray')\n",
    "    plt.imsave('./fake_image_100/fake_'+str(ii).zfill(2)+'.png', to_pil_image(0.5*img_fake[ii]+0.5),cmap='gray')\n",
    "    plt.axis('off')"
   ]
  },
  {
   "cell_type": "code",
   "execution_count": null,
   "metadata": {},
   "outputs": [],
   "source": []
  }
 ],
 "metadata": {
  "kernelspec": {
   "display_name": "Python 3.9.12 ('py39')",
   "language": "python",
   "name": "python3"
  },
  "language_info": {
   "codemirror_mode": {
    "name": "ipython",
    "version": 3
   },
   "file_extension": ".py",
   "mimetype": "text/x-python",
   "name": "python",
   "nbconvert_exporter": "python",
   "pygments_lexer": "ipython3",
   "version": "3.9.12"
  },
  "orig_nbformat": 4,
  "vscode": {
   "interpreter": {
    "hash": "a0fccc7b5b66a21ab70010184af2a4adf761d48ac2073a3361184247c3ca5515"
   }
  }
 },
 "nbformat": 4,
 "nbformat_minor": 2
}
