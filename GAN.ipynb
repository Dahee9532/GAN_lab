{
 "cells": [
  {
   "cell_type": "code",
   "execution_count": 2,
   "metadata": {},
   "outputs": [],
   "source": [
    "import torch\n",
    "import torch.nn as nn\n",
    "import torch.nn.functional as F\n",
    "\n",
    "from torchvision import datasets\n",
    "import torchvision.transforms as transforms\n",
    "from torch.utils.data import DataLoader\n",
    "from torchvision.transforms.functional import to_pil_image\n",
    "import matplotlib.pylab as plt\n",
    "%matplotlib inline\n",
    "\n",
    "import os\n",
    "import numpy as np\n",
    "import time\n",
    "\n",
    "device = torch.device('cuda' if torch.cuda.is_available() else 'cpu')\n"
   ]
  },
  {
   "cell_type": "code",
   "execution_count": 3,
   "metadata": {},
   "outputs": [],
   "source": [
    "# 데이터 경로 지정\n",
    "path2data = './data'\n",
    "os.makedirs(path2data, exist_ok=True) # 폴더 생성"
   ]
  },
  {
   "cell_type": "code",
   "execution_count": 4,
   "metadata": {},
   "outputs": [],
   "source": [
    "# MNIST dataset 불러오기\n",
    "train_ds = datasets.MNIST(path2data, train=True, transform=transforms.Compose([transforms.ToTensor(),transforms.Normalize([0.5],[0.5])]), download=True)"
   ]
  },
  {
   "cell_type": "code",
   "execution_count": 5,
   "metadata": {},
   "outputs": [
    {
     "data": {
      "text/plain": [
       "<matplotlib.image.AxesImage at 0x291455cca30>"
      ]
     },
     "execution_count": 5,
     "metadata": {},
     "output_type": "execute_result"
    },
    {
     "data": {
      "image/png": "[encoded data removed]",
      "text/plain": [
       "<Figure size 432x288 with 1 Axes>"
      ]
     },
     "metadata": {
      "needs_background": "light"
     },
     "output_type": "display_data"
    }
   ],
   "source": [
    "# 샘플 이미지 확인\n",
    "img, label = train_ds[0]\n",
    "plt.imshow(to_pil_image(0.5*img+0.5),cmap='gray')"
   ]
  },
  {
   "cell_type": "code",
   "execution_count": 6,
   "metadata": {},
   "outputs": [],
   "source": [
    "# 데이터 로더 생성\n",
    "train_dl = DataLoader(train_ds, batch_size=32, shuffle=True)"
   ]
  },
  {
   "cell_type": "code",
   "execution_count": 7,
   "metadata": {},
   "outputs": [
    {
     "name": "stdout",
     "output_type": "stream",
     "text": [
      "torch.Size([32, 1, 28, 28]) torch.Size([32])\n"
     ]
    }
   ],
   "source": [
    "# check\n",
    "for x, y in train_dl:\n",
    "    print(x.shape, y.shape)\n",
    "    break"
   ]
  },
  {
   "cell_type": "code",
   "execution_count": 8,
   "metadata": {},
   "outputs": [
    {
     "name": "stdout",
     "output_type": "stream",
     "text": [
      "torch.Size([16, 1, 28, 28])\n"
     ]
    }
   ],
   "source": [
    "# generator: noise를 입력받아 이미지를 생성합니다.\n",
    "class Generator(nn.Module):\n",
    "    def __init__(self, params):\n",
    "        super().__init__()\n",
    "        self.nz = params['nz'] # 입력 노이즈 벡터 수, 100\n",
    "        self.img_size = params['img_size'] # 이미지 크기, 1x28x28\n",
    "\n",
    "        self.model = nn.Sequential(\n",
    "            *self._fc_layer(self.nz, 128, normalize=False),\n",
    "            *self._fc_layer(128,256),\n",
    "            *self._fc_layer(256,512),\n",
    "            *self._fc_layer(512,1024),\n",
    "            nn.Linear(1024,int(np.prod(self.img_size))),\n",
    "            nn.Tanh()\n",
    "        )\n",
    "\n",
    "    def forward(self, z):\n",
    "        img = self.model(z)\n",
    "        img = img.view(img.size(0), *self.img_size)\n",
    "        return img\n",
    "\n",
    "    # fc layer\n",
    "    def _fc_layer(self, in_channels, out_channels, normalize=True):\n",
    "        layers = []\n",
    "        layers.append(nn.Linear(in_channels, out_channels)) # fc layer\n",
    "        if normalize:\n",
    "            layers.append(nn.BatchNorm1d(out_channels, 0.8)) # BN\n",
    "        layers.append(nn.LeakyReLU(0.2)) # LeakyReLU\n",
    "        return layers\n",
    "\n",
    "# check\n",
    "params = {'nz':100,\n",
    "          'img_size':(1,28,28)}\n",
    "x = torch.randn(16,100).to(device) # random noise\n",
    "model_gen = Generator(params).to(device)\n",
    "output = model_gen(x) # noise를 입력받아 이미지 생성\n",
    "print(output.shape)"
   ]
  },
  {
   "cell_type": "code",
   "execution_count": 9,
   "metadata": {},
   "outputs": [
    {
     "name": "stdout",
     "output_type": "stream",
     "text": [
      "torch.Size([16, 1])\n"
     ]
    }
   ],
   "source": [
    "# discriminator: 진짜 이미지와 가짜 이미지를 분류합니다.\n",
    "class Discriminator(nn.Module):\n",
    "    def __init__(self,params):\n",
    "        super().__init__()\n",
    "        self.img_size = params['img_size'] # 이미지 크기, 1x28x28\n",
    "\n",
    "        self.model = nn.Sequential(\n",
    "            nn.Linear(int(np.prod(self.img_size)), 512),\n",
    "            nn.LeakyReLU(0.2),\n",
    "            nn.Linear(512,256),\n",
    "            nn.LeakyReLU(0.2),\n",
    "            nn.Linear(256,1),\n",
    "            nn.Sigmoid()\n",
    "        )\n",
    "\n",
    "    def forward(self, x):\n",
    "        x = x.view(x.size(0),-1)\n",
    "        x = self.model(x)\n",
    "        return x\n",
    "\n",
    "# check\n",
    "x = torch.randn(16,1,28,28).to(device)\n",
    "model_dis = Discriminator(params).to(device)\n",
    "output = model_dis(x)\n",
    "print(output.shape)"
   ]
  },
  {
   "cell_type": "code",
   "execution_count": 10,
   "metadata": {},
   "outputs": [],
   "source": [
    "# 가중치 초기화\n",
    "def initialize_weights(model):\n",
    "    classname = model.__class__.__name__\n",
    "    # fc layer\n",
    "    if classname.find('Linear') != -1:\n",
    "        nn.init.normal_(model.weight.data, 0.0, 0.02)\n",
    "        nn.init.constant_(model.bias.data, 0)\n",
    "    # batchnorm\n",
    "    elif classname.find('BatchNorm') != -1:\n",
    "        nn.init.normal_(model.weight.data, 1.0, 0.02)\n",
    "        nn.init.constant_(model.bias.data, 0)\n",
    "\n",
    "# 가중치 초기화 적용\n",
    "model_gen.apply(initialize_weights);\n",
    "model_dis.apply(initialize_weights);"
   ]
  },
  {
   "cell_type": "code",
   "execution_count": 11,
   "metadata": {},
   "outputs": [],
   "source": [
    "# 손실 함수\n",
    "loss_func = nn.BCELoss()"
   ]
  },
  {
   "cell_type": "code",
   "execution_count": 12,
   "metadata": {},
   "outputs": [],
   "source": [
    "from torch import optim\n",
    "\n",
    "# 최적화 파라미터\n",
    "lr = 2e-4\n",
    "beta1 = 0.5\n",
    "\n",
    "opt_dis = optim.Adam(model_dis.parameters(),lr=lr,betas=(beta1,0.999))\n",
    "opt_gen = optim.Adam(model_gen.parameters(),lr=lr,betas=(beta1,0.999))"
   ]
  },
  {
   "cell_type": "code",
   "execution_count": 13,
   "metadata": {},
   "outputs": [],
   "source": [
    "real_label = 1.\n",
    "fake_label = 0.\n",
    "nz = params['nz']\n",
    "num_epochs = 1\n",
    "\n",
    "loss_history={'gen':[],\n",
    "              'dis':[]}"
   ]
  },
  {
   "cell_type": "code",
   "execution_count": 14,
   "metadata": {},
   "outputs": [
    {
     "name": "stdout",
     "output_type": "stream",
     "text": [
      "Epoch: 0, G_Loss: 2.124063, D_Loss: 0.351925, time: 0.19 min\n"
     ]
    }
   ],
   "source": [
    "\n",
    "batch_count = 0\n",
    "start_time = time.time()\n",
    "model_dis.train()\n",
    "model_gen.train()\n",
    "\n",
    "for epoch in range(num_epochs):\n",
    "    for xb, yb in train_dl:\n",
    "        ba_si = xb.size(0)\n",
    "\n",
    "        xb = xb.to(device)\n",
    "        yb_real = torch.Tensor(ba_si,1).fill_(1.0).to(device)\n",
    "        yb_fake = torch.Tensor(ba_si,1).fill_(0.0).to(device)\n",
    "\n",
    "        # Generator\n",
    "        model_gen.zero_grad()\n",
    "        noise = torch.randn(ba_si,nz, device=device) # 노이즈 생성\n",
    "        out_gen = model_gen(noise) # 가짜 이미지 생성\n",
    "        out_dis = model_dis(out_gen) # 가짜 이미지 판별\n",
    "\n",
    "        loss_gen = loss_func(out_dis, yb_real)\n",
    "        loss_gen.backward()\n",
    "        opt_gen.step()\n",
    "\n",
    "        # Discriminator\n",
    "        model_dis.zero_grad()\n",
    "\n",
    "        out_real = model_dis(xb) # 진짜 이미지 판별\n",
    "        out_fake = model_dis(out_gen.detach()) # 가짜 이미지 판별\n",
    "        loss_real = loss_func(out_real, yb_real)\n",
    "        loss_fake = loss_func(out_fake, yb_fake)\n",
    "        loss_dis = (loss_real + loss_fake) / 2\n",
    "\n",
    "        loss_dis.backward()\n",
    "        opt_dis.step()\n",
    "\n",
    "        loss_history['gen'].append(loss_gen.item())\n",
    "        loss_history['dis'].append(loss_dis.item())\n",
    "\n",
    "        batch_count += 1\n",
    "        if batch_count % 1000 == 0:\n",
    "            print('Epoch: %.0f, G_Loss: %.6f, D_Loss: %.6f, time: %.2f min' %(epoch, loss_gen.item(), loss_dis.item(), (time.time()-start_time)/60))"
   ]
  },
  {
   "cell_type": "code",
   "execution_count": 1,
   "metadata": {},
   "outputs": [
    {
     "ename": "NameError",
     "evalue": "name 'plt' is not defined",
     "output_type": "error",
     "traceback": [
      "\u001b[1;31m---------------------------------------------------------------------------\u001b[0m",
      "\u001b[1;31mNameError\u001b[0m                                 Traceback (most recent call last)",
      "\u001b[1;32mc:\\Users\\StradVision\\Desktop\\dahee\\GAN_lab\\test.ipynb Cell 1'\u001b[0m in \u001b[0;36m<cell line: 2>\u001b[1;34m()\u001b[0m\n\u001b[0;32m      <a href='vscode-notebook-cell:/c%3A/Users/StradVision/Desktop/dahee/GAN_lab/test.ipynb#ch0000000?line=0'>1</a>\u001b[0m \u001b[39m# plot loss history\u001b[39;00m\n\u001b[1;32m----> <a href='vscode-notebook-cell:/c%3A/Users/StradVision/Desktop/dahee/GAN_lab/test.ipynb#ch0000000?line=1'>2</a>\u001b[0m plt\u001b[39m.\u001b[39mfigure(figsize\u001b[39m=\u001b[39m(\u001b[39m10\u001b[39m,\u001b[39m5\u001b[39m))\n\u001b[0;32m      <a href='vscode-notebook-cell:/c%3A/Users/StradVision/Desktop/dahee/GAN_lab/test.ipynb#ch0000000?line=2'>3</a>\u001b[0m plt\u001b[39m.\u001b[39mtitle(\u001b[39m'\u001b[39m\u001b[39mLoss Progress\u001b[39m\u001b[39m'\u001b[39m)\n\u001b[0;32m      <a href='vscode-notebook-cell:/c%3A/Users/StradVision/Desktop/dahee/GAN_lab/test.ipynb#ch0000000?line=3'>4</a>\u001b[0m plt\u001b[39m.\u001b[39mplot(loss_history[\u001b[39m'\u001b[39m\u001b[39mgen\u001b[39m\u001b[39m'\u001b[39m], label\u001b[39m=\u001b[39m\u001b[39m'\u001b[39m\u001b[39mGen. Loss\u001b[39m\u001b[39m'\u001b[39m)\n",
      "\u001b[1;31mNameError\u001b[0m: name 'plt' is not defined"
     ]
    }
   ],
   "source": [
    "# plot loss history\n",
    "plt.figure(figsize=(10,5))\n",
    "plt.title('Loss Progress')\n",
    "plt.plot(loss_history['gen'], label='Gen. Loss')\n",
    "plt.plot(loss_history['dis'], label='Dis. Loss')\n",
    "plt.xlabel('batch count')\n",
    "plt.ylabel('Loss')\n",
    "plt.legend()\n",
    "plt.show()"
   ]
  },
  {
   "cell_type": "code",
   "execution_count": 15,
   "metadata": {},
   "outputs": [],
   "source": [
    "# 가중치 저장\n",
    "path2models = './models/'\n",
    "os.makedirs(path2models, exist_ok=True)\n",
    "path2weights_gen = os.path.join(path2models, 'weights_gen.pt')\n",
    "path2weights_dis = os.path.join(path2models, 'weights_dis.pt')\n",
    "\n",
    "torch.save(model_gen.state_dict(), path2weights_gen)\n",
    "torch.save(model_dis.state_dict(), path2weights_dis)"
   ]
  },
  {
   "cell_type": "code",
   "execution_count": 16,
   "metadata": {},
   "outputs": [
    {
     "name": "stdout",
     "output_type": "stream",
     "text": [
      "torch.Size([16, 1, 28, 28])\n"
     ]
    }
   ],
   "source": [
    "# 가중치 불러오기\n",
    "weights = torch.load(path2weights_gen)\n",
    "model_gen.load_state_dict(weights)\n",
    "\n",
    "# evaluation mode\n",
    "model_gen.eval()\n",
    "\n",
    "# 가짜 이미지 생성\n",
    "with torch.no_grad():\n",
    "    fixed_noise = torch.randn(16, 100, device=device)\n",
    "    img_fake = model_gen(fixed_noise).detach().cpu()\n",
    "print(img_fake.shape)"
   ]
  },
  {
   "cell_type": "code",
   "execution_count": 17,
   "metadata": {},
   "outputs": [
    {
     "data": {
      "image/png": "[encoded data removed]",
      "text/plain": [
       "<Figure size 720x720 with 16 Axes>"
      ]
     },
     "metadata": {
      "needs_background": "light"
     },
     "output_type": "display_data"
    }
   ],
   "source": [
    "# 가짜 이미지 시각화\n",
    "plt.figure(figsize=(10,10))\n",
    "for ii in range(16):\n",
    "    plt.subplot(4,4,ii+1)\n",
    "    plt.imshow(to_pil_image(0.5*img_fake[ii]+0.5),cmap='gray')\n",
    "    plt.axis('off')"
   ]
  }
 ],
 "metadata": {
  "kernelspec": {
   "display_name": "Python 3.9.12 ('py39')",
   "language": "python",
   "name": "python3"
  },
  "language_info": {
   "codemirror_mode": {
    "name": "ipython",
    "version": 3
   },
   "file_extension": ".py",
   "mimetype": "text/x-python",
   "name": "python",
   "nbconvert_exporter": "python",
   "pygments_lexer": "ipython3",
   "version": "3.9.12"
  },
  "orig_nbformat": 4,
  "vscode": {
   "interpreter": {
    "hash": "a0fccc7b5b66a21ab70010184af2a4adf761d48ac2073a3361184247c3ca5515"
   }
  }
 },
 "nbformat": 4,
 "nbformat_minor": 2
}
